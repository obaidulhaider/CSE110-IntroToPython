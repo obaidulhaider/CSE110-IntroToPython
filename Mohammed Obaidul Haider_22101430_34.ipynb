{
 "cells": [
  {
   "cell_type": "code",
   "execution_count": 5,
   "id": "8847803f",
   "metadata": {},
   "outputs": [
    {
     "name": "stdout",
     "output_type": "stream",
     "text": [
      "cost of coffee: 3\n",
      "cup of coffe I want to drink: 5\n",
      "Money i have : 15\n",
      "Money I need to borrow  30\n"
     ]
    }
   ],
   "source": [
    "n=int(input(\"cost of coffee: \"))\n",
    "\n",
    "cost = 0\n",
    "\n",
    "j=int(input(\"cup of coffe I want to drink: \"))\n",
    "\n",
    "k = int(input(\"Money i have : \"))\n",
    "\n",
    "for i in range(1,j+1):\n",
    "    \n",
    "    cost+=(3*i)\n",
    "    \n",
    "    \n",
    "var = cost-k\n",
    "\n",
    "print(\"Money I need to borrow \",var)\n",
    "    \n",
    "    \n",
    "    \n",
    "    \n",
    "            "
   ]
  },
  {
   "cell_type": "code",
   "execution_count": null,
   "id": "a0c38bd0",
   "metadata": {},
   "outputs": [],
   "source": []
  }
 ],
 "metadata": {
  "kernelspec": {
   "display_name": "Python 3 (ipykernel)",
   "language": "python",
   "name": "python3"
  },
  "language_info": {
   "codemirror_mode": {
    "name": "ipython",
    "version": 3
   },
   "file_extension": ".py",
   "mimetype": "text/x-python",
   "name": "python",
   "nbconvert_exporter": "python",
   "pygments_lexer": "ipython3",
   "version": "3.9.7"
  }
 },
 "nbformat": 4,
 "nbformat_minor": 5
}
